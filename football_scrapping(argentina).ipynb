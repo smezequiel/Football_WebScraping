{
 "cells": [
  {
   "cell_type": "code",
   "execution_count": null,
   "id": "99a8661e-b09c-4151-b146-c2b3834c5a1e",
   "metadata": {
    "tags": []
   },
   "outputs": [],
   "source": [
    "from selenium import webdriver\n",
    "from webdriver_manager.chrome import ChromeDriverManager\n",
    "from selenium.webdriver.support.ui import Select\n",
    "import time\n",
    "import pandas as pd\n",
    "\n",
    "website = 'https://www.adamchoi.co.uk/teamgoals/detailed'\n",
    "driver = webdriver.Chrome(ChromeDriverManager().install())\n",
    "\n",
    "driver.get(website)\n",
    "time.sleep(5)\n",
    "\n",
    "all_matches_button = driver.find_element_by_xpath('//label[@analytics-event = \"All matches\"]')\n",
    "all_matches_button.click()\n",
    "time.sleep(4)\n",
    "\n",
    "dropdown = Select(driver.find_element_by_id('country'))\n",
    "dropdown.select_by_visible_text('Argentina')\n",
    "time.sleep(4)\n",
    "\n",
    "matches = driver.find_elements_by_tag_name('tr')\n",
    "\n",
    "date = []\n",
    "home_team = []\n",
    "score = []\n",
    "away_team = []\n",
    "\n",
    "\n",
    "for match in matches:\n",
    "    date.append(match.find_element_by_xpath('./td[1]').text)\n",
    "    home_team.append(match.find_element_by_xpath('./td[2]').text)\n",
    "    score.append(match.find_element_by_xpath('./td[3]').text)\n",
    "    away_team.append(match.find_element_by_xpath('./td[4]').text)\n",
    "    \n",
    "driver.quit()\n",
    "\n",
    "df = pd.DataFrame({'date' : date, 'home_team': home_team, 'score': score, 'away_team':away_team})\n",
    "df.to_csv('Football_Data_Argentina.csv', index= False) #For no index\n",
    "print(df)"
   ]
  },
  {
   "cell_type": "code",
   "execution_count": null,
   "id": "cefe6037-24e2-476d-b0dd-11120824d0ab",
   "metadata": {},
   "outputs": [],
   "source": []
  }
 ],
 "metadata": {
  "kernelspec": {
   "display_name": "Python 3 (ipykernel)",
   "language": "python",
   "name": "python3"
  },
  "language_info": {
   "codemirror_mode": {
    "name": "ipython",
    "version": 3
   },
   "file_extension": ".py",
   "mimetype": "text/x-python",
   "name": "python",
   "nbconvert_exporter": "python",
   "pygments_lexer": "ipython3",
   "version": "3.8.10"
  }
 },
 "nbformat": 4,
 "nbformat_minor": 5
}
